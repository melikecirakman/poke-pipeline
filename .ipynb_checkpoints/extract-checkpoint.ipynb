{
 "cells": [
  {
   "cell_type": "code",
   "execution_count": 5,
   "id": "681438b0-2588-4a05-8adc-4ba780025340",
   "metadata": {},
   "outputs": [
    {
     "name": "stdout",
     "output_type": "stream",
     "text": [
      "20 Pokémon verisi 'data/pokemons.json' dosyasına kaydedildi.\n",
      "{'id': 1, 'name': 'bulbasaur', 'height': 7, 'weight': 69, 'base_experience': 64, 'types': 'grass, poison', 'hp': 45, 'attack': 49, 'defense': 49, 'speed': 45}\n",
      "{'id': 2, 'name': 'ivysaur', 'height': 10, 'weight': 130, 'base_experience': 142, 'types': 'grass, poison', 'hp': 60, 'attack': 62, 'defense': 63, 'speed': 60}\n",
      "{'id': 3, 'name': 'venusaur', 'height': 20, 'weight': 1000, 'base_experience': 236, 'types': 'grass, poison', 'hp': 80, 'attack': 82, 'defense': 83, 'speed': 80}\n",
      "{'id': 4, 'name': 'charmander', 'height': 6, 'weight': 85, 'base_experience': 62, 'types': 'fire', 'hp': 39, 'attack': 52, 'defense': 43, 'speed': 65}\n",
      "{'id': 5, 'name': 'charmeleon', 'height': 11, 'weight': 190, 'base_experience': 142, 'types': 'fire', 'hp': 58, 'attack': 64, 'defense': 58, 'speed': 80}\n",
      "{'id': 6, 'name': 'charizard', 'height': 17, 'weight': 905, 'base_experience': 240, 'types': 'fire, flying', 'hp': 78, 'attack': 84, 'defense': 78, 'speed': 100}\n",
      "{'id': 7, 'name': 'squirtle', 'height': 5, 'weight': 90, 'base_experience': 63, 'types': 'water', 'hp': 44, 'attack': 48, 'defense': 65, 'speed': 43}\n",
      "{'id': 8, 'name': 'wartortle', 'height': 10, 'weight': 225, 'base_experience': 142, 'types': 'water', 'hp': 59, 'attack': 63, 'defense': 80, 'speed': 58}\n",
      "{'id': 9, 'name': 'blastoise', 'height': 16, 'weight': 855, 'base_experience': 239, 'types': 'water', 'hp': 79, 'attack': 83, 'defense': 100, 'speed': 78}\n",
      "{'id': 10, 'name': 'caterpie', 'height': 3, 'weight': 29, 'base_experience': 39, 'types': 'bug', 'hp': 45, 'attack': 30, 'defense': 35, 'speed': 45}\n",
      "{'id': 11, 'name': 'metapod', 'height': 7, 'weight': 99, 'base_experience': 72, 'types': 'bug', 'hp': 50, 'attack': 20, 'defense': 55, 'speed': 30}\n",
      "{'id': 12, 'name': 'butterfree', 'height': 11, 'weight': 320, 'base_experience': 178, 'types': 'bug, flying', 'hp': 60, 'attack': 45, 'defense': 50, 'speed': 70}\n",
      "{'id': 13, 'name': 'weedle', 'height': 3, 'weight': 32, 'base_experience': 39, 'types': 'bug, poison', 'hp': 40, 'attack': 35, 'defense': 30, 'speed': 50}\n",
      "{'id': 14, 'name': 'kakuna', 'height': 6, 'weight': 100, 'base_experience': 72, 'types': 'bug, poison', 'hp': 45, 'attack': 25, 'defense': 50, 'speed': 35}\n",
      "{'id': 15, 'name': 'beedrill', 'height': 10, 'weight': 295, 'base_experience': 178, 'types': 'bug, poison', 'hp': 65, 'attack': 90, 'defense': 40, 'speed': 75}\n",
      "{'id': 16, 'name': 'pidgey', 'height': 3, 'weight': 18, 'base_experience': 50, 'types': 'normal, flying', 'hp': 40, 'attack': 45, 'defense': 40, 'speed': 56}\n",
      "{'id': 17, 'name': 'pidgeotto', 'height': 11, 'weight': 300, 'base_experience': 122, 'types': 'normal, flying', 'hp': 63, 'attack': 60, 'defense': 55, 'speed': 71}\n",
      "{'id': 18, 'name': 'pidgeot', 'height': 15, 'weight': 395, 'base_experience': 216, 'types': 'normal, flying', 'hp': 83, 'attack': 80, 'defense': 75, 'speed': 101}\n",
      "{'id': 19, 'name': 'rattata', 'height': 3, 'weight': 35, 'base_experience': 51, 'types': 'normal', 'hp': 30, 'attack': 56, 'defense': 35, 'speed': 72}\n",
      "{'id': 20, 'name': 'raticate', 'height': 7, 'weight': 185, 'base_experience': 145, 'types': 'normal', 'hp': 55, 'attack': 81, 'defense': 60, 'speed': 97}\n"
     ]
    }
   ],
   "source": [
    "import requests\n",
    "import json\n",
    "import os\n",
    "\n",
    "def get_pokemon_data(limit=20):\n",
    "   \n",
    "    base_url = \"https://pokeapi.co/api/v2/pokemon/\"\n",
    "    pokemon_list = []\n",
    "\n",
    "    # Klasör yoksa oluştur\n",
    "    os.makedirs(\"data\", exist_ok=True)\n",
    "\n",
    "    for i in range(1, limit + 1):\n",
    "        url = f\"{base_url}{i}\"\n",
    "        response = requests.get(url)\n",
    "        if response.status_code != 200:\n",
    "            print(f\"Veri alınamadı: {url}\")\n",
    "            continue\n",
    "        \n",
    "        data = response.json()\n",
    "        \n",
    "        name = data[\"name\"]\n",
    "        height = data[\"height\"]\n",
    "        weight = data[\"weight\"]\n",
    "        base_experience = data.get(\"base_experience\", 0)\n",
    "        \n",
    "        types = [t[\"type\"][\"name\"] for t in data[\"types\"]]\n",
    "        \n",
    "        stats = {s[\"stat\"][\"name\"]: s[\"base_stat\"] for s in data[\"stats\"]}\n",
    "        \n",
    "        pokemon = {\n",
    "            \"id\": data[\"id\"],\n",
    "            \"name\": name,\n",
    "            \"height\": height,\n",
    "            \"weight\": weight,\n",
    "            \"base_experience\": base_experience,\n",
    "            \"types\": \", \".join(types),\n",
    "            \"hp\": stats.get(\"hp\"),\n",
    "            \"attack\": stats.get(\"attack\"),\n",
    "            \"defense\": stats.get(\"defense\"),\n",
    "            \"speed\": stats.get(\"speed\")\n",
    "        }\n",
    "\n",
    "        pokemon_list.append(pokemon)\n",
    "\n",
    "    # JSON olarak kaydet\n",
    "    with open(\"data/pokemons.json\", \"w\", encoding=\"utf-8\") as f:\n",
    "        json.dump(pokemon_list, f, indent=4, ensure_ascii=False)\n",
    "\n",
    "    print(f\"{len(pokemon_list)} Pokémon verisi 'data/pokemons.json' dosyasına kaydedildi.\")\n",
    "    return pokemon_list\n",
    "\n",
    "\n",
    "if __name__ == \"__main__\":\n",
    "    pokemons = get_pokemon_data(limit=20)\n",
    "    for p in pokemons[:20]:  \n",
    "        print(p)\n"
   ]
  },
  {
   "cell_type": "code",
   "execution_count": null,
   "id": "829b33ad-68ae-4279-a25e-c91159dc8c08",
   "metadata": {},
   "outputs": [],
   "source": []
  }
 ],
 "metadata": {
  "kernelspec": {
   "display_name": "Python [conda env:base] *",
   "language": "python",
   "name": "conda-base-py"
  },
  "language_info": {
   "codemirror_mode": {
    "name": "ipython",
    "version": 3
   },
   "file_extension": ".py",
   "mimetype": "text/x-python",
   "name": "python",
   "nbconvert_exporter": "python",
   "pygments_lexer": "ipython3",
   "version": "3.12.4"
  }
 },
 "nbformat": 4,
 "nbformat_minor": 5
}
