{
 "cells": [
  {
   "cell_type": "code",
   "execution_count": 2,
   "id": "c9fb379f-55ef-4221-80ec-0a626df20454",
   "metadata": {},
   "outputs": [
    {
     "name": "stdout",
     "output_type": "stream",
     "text": [
      "Requirement already satisfied: sqlalchemy in c:\\users\\melik\\anaconda3\\lib\\site-packages (2.0.30)Note: you may need to restart the kernel to use updated packages.\n",
      "\n",
      "Requirement already satisfied: pyodbc in c:\\users\\melik\\anaconda3\\lib\\site-packages (5.0.1)\n",
      "Requirement already satisfied: typing-extensions>=4.6.0 in c:\\users\\melik\\anaconda3\\lib\\site-packages (from sqlalchemy) (4.15.0)\n",
      "Requirement already satisfied: greenlet!=0.4.17 in c:\\users\\melik\\anaconda3\\lib\\site-packages (from sqlalchemy) (3.0.1)\n"
     ]
    }
   ],
   "source": [
    "pip install sqlalchemy pyodbc\n"
   ]
  },
  {
   "cell_type": "code",
   "execution_count": 9,
   "id": "5c47a42c-25b2-4405-b3ad-6c18fe181e06",
   "metadata": {},
   "outputs": [
    {
     "name": "stdout",
     "output_type": "stream",
     "text": [
      "20 Pokémon verisi 'PokemonDB' veritabanına başarıyla yüklendi.\n"
     ]
    }
   ],
   "source": [
    "import pandas as pd\n",
    "from sqlalchemy import create_engine\n",
    "import urllib, json\n",
    "\n",
    "def load_to_mssql(json_path=\"data/pokemons.json\"):\n",
    "    with open(json_path, \"r\", encoding=\"utf-8\") as f:\n",
    "        pokemons = json.load(f)\n",
    "    df = pd.DataFrame(pokemons)\n",
    "\n",
    "    server = r'FATOS\\MSSQLSERVER01'   # kendi server adını yaz\n",
    "    database = 'PokemonDB'\n",
    "\n",
    "    # Windows Authentication (Trusted_Connection=yes)\n",
    "    params = urllib.parse.quote_plus(\n",
    "        f\"DRIVER={{ODBC Driver 17 for SQL Server}};\"\n",
    "        f\"SERVER={server};\"\n",
    "        f\"DATABASE={database};\"\n",
    "        f\"Trusted_Connection=yes;\"\n",
    "    )\n",
    "\n",
    "    engine = create_engine(f\"mssql+pyodbc:///?odbc_connect={params}\")\n",
    "    df.to_sql(\"pokemons\", engine, if_exists=\"replace\", index=False)\n",
    "\n",
    "    print(f\"{len(df)} Pokémon verisi '{database}' veritabanına başarıyla yüklendi.\")\n",
    "\n",
    "\n",
    "if __name__ == \"__main__\":\n",
    "    load_to_mssql()\n"
   ]
  },
  {
   "cell_type": "code",
   "execution_count": null,
   "id": "8057ea88-6f69-4aa6-bb4f-93670927a95d",
   "metadata": {},
   "outputs": [],
   "source": []
  }
 ],
 "metadata": {
  "kernelspec": {
   "display_name": "Python [conda env:base] *",
   "language": "python",
   "name": "conda-base-py"
  },
  "language_info": {
   "codemirror_mode": {
    "name": "ipython",
    "version": 3
   },
   "file_extension": ".py",
   "mimetype": "text/x-python",
   "name": "python",
   "nbconvert_exporter": "python",
   "pygments_lexer": "ipython3",
   "version": "3.12.4"
  }
 },
 "nbformat": 4,
 "nbformat_minor": 5
}
